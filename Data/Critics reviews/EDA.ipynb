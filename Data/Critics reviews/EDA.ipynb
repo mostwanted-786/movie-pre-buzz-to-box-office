{
 "cells": [
  {
   "cell_type": "code",
   "execution_count": 1,
   "id": "0dfefb25",
   "metadata": {},
   "outputs": [],
   "source": [
    "import pandas as pd\n",
    "import ast"
   ]
  },
  {
   "cell_type": "code",
   "execution_count": 13,
   "id": "56faaeec",
   "metadata": {},
   "outputs": [],
   "source": [
    "df = pd.read_csv('movies with reviews.csv')"
   ]
  },
  {
   "cell_type": "code",
   "execution_count": 14,
   "id": "7c95dd44",
   "metadata": {},
   "outputs": [],
   "source": [
    "df['Comments'] = df['Comments'].replace(\"['ERROR']\", 'ERROR')"
   ]
  },
  {
   "cell_type": "code",
   "execution_count": 11,
   "id": "fe407a95",
   "metadata": {},
   "outputs": [
    {
     "name": "stderr",
     "output_type": "stream",
     "text": [
      "<ipython-input-11-de1f482c87f1>:1: SettingWithCopyWarning: \n",
      "A value is trying to be set on a copy of a slice from a DataFrame.\n",
      "Try using .loc[row_indexer,col_indexer] = value instead\n",
      "\n",
      "See the caveats in the documentation: https://pandas.pydata.org/pandas-docs/stable/user_guide/indexing.html#returning-a-view-versus-a-copy\n",
      "  df[df['Comments']!='ERROR']['Comments'] = df[df['Comments']!='ERROR']['Comments'].map(ast.literal_eval)\n"
     ]
    }
   ],
   "source": [
    "# df[df['Comments']!='ERROR']['Comments'] = df[df['Comments']!='ERROR']['Comments'].map(ast.literal_eval)"
   ]
  },
  {
   "cell_type": "code",
   "execution_count": 36,
   "id": "b952c5df",
   "metadata": {},
   "outputs": [],
   "source": [
    "rev = pd.DataFrame()"
   ]
  },
  {
   "cell_type": "code",
   "execution_count": 18,
   "id": "451c1176",
   "metadata": {},
   "outputs": [
    {
     "data": {
      "text/html": [
       "<div>\n",
       "<style scoped>\n",
       "    .dataframe tbody tr th:only-of-type {\n",
       "        vertical-align: middle;\n",
       "    }\n",
       "\n",
       "    .dataframe tbody tr th {\n",
       "        vertical-align: top;\n",
       "    }\n",
       "\n",
       "    .dataframe thead th {\n",
       "        text-align: right;\n",
       "    }\n",
       "</style>\n",
       "<table border=\"1\" class=\"dataframe\">\n",
       "  <thead>\n",
       "    <tr style=\"text-align: right;\">\n",
       "      <th></th>\n",
       "      <th>Movie</th>\n",
       "      <th>URL</th>\n",
       "      <th>Comments</th>\n",
       "    </tr>\n",
       "  </thead>\n",
       "  <tbody>\n",
       "    <tr>\n",
       "      <th>0</th>\n",
       "      <td>Love by Drowning</td>\n",
       "      <td>https://www.rottentomatoes.com/m/love_by_drowning</td>\n",
       "      <td>ERROR</td>\n",
       "    </tr>\n",
       "    <tr>\n",
       "      <th>1</th>\n",
       "      <td>Mickey and the Bear</td>\n",
       "      <td>https://www.rottentomatoes.com/m/mickey_and_th...</td>\n",
       "      <td>['\"Mickey and the Bear\" unfolds languidly, all...</td>\n",
       "    </tr>\n",
       "    <tr>\n",
       "      <th>2</th>\n",
       "      <td>Hustlers</td>\n",
       "      <td>https://www.rottentomatoes.com/m/hustlers_2019</td>\n",
       "      <td>['Hustlers is a triumph.', \"It's easy to get l...</td>\n",
       "    </tr>\n",
       "    <tr>\n",
       "      <th>3</th>\n",
       "      <td>Oppenheimer</td>\n",
       "      <td>https://www.rottentomatoes.com/m/oppenheimer_2023</td>\n",
       "      <td>[\"What he [Nolan] has put before our eyes defi...</td>\n",
       "    </tr>\n",
       "    <tr>\n",
       "      <th>4</th>\n",
       "      <td>Another Round</td>\n",
       "      <td>https://www.rottentomatoes.com/m/another_round</td>\n",
       "      <td>[\"The last shot of this film [is] as indelible...</td>\n",
       "    </tr>\n",
       "  </tbody>\n",
       "</table>\n",
       "</div>"
      ],
      "text/plain": [
       "                 Movie                                                URL  \\\n",
       "0     Love by Drowning  https://www.rottentomatoes.com/m/love_by_drowning   \n",
       "1  Mickey and the Bear  https://www.rottentomatoes.com/m/mickey_and_th...   \n",
       "2             Hustlers     https://www.rottentomatoes.com/m/hustlers_2019   \n",
       "3          Oppenheimer  https://www.rottentomatoes.com/m/oppenheimer_2023   \n",
       "4        Another Round     https://www.rottentomatoes.com/m/another_round   \n",
       "\n",
       "                                            Comments  \n",
       "0                                              ERROR  \n",
       "1  ['\"Mickey and the Bear\" unfolds languidly, all...  \n",
       "2  ['Hustlers is a triumph.', \"It's easy to get l...  \n",
       "3  [\"What he [Nolan] has put before our eyes defi...  \n",
       "4  [\"The last shot of this film [is] as indelible...  "
      ]
     },
     "execution_count": 18,
     "metadata": {},
     "output_type": "execute_result"
    }
   ],
   "source": [
    "df.head()"
   ]
  },
  {
   "cell_type": "code",
   "execution_count": 37,
   "id": "8243669b",
   "metadata": {},
   "outputs": [],
   "source": [
    "for i, row in df.iterrows():\n",
    "    movie = row['Movie']\n",
    "    comments = row['Comments']\n",
    "    \n",
    "    if comments =='ERROR':\n",
    "        rev = rev.append({'movie': movie, 'reviews':comments}, ignore_index=True)\n",
    "    else:\n",
    "        comments = eval(comments)\n",
    "        for i in range(len(comments)):\n",
    "            rev = rev.append({'movie': movie, 'reviews':comments[i]}, ignore_index=True)"
   ]
  },
  {
   "cell_type": "code",
   "execution_count": 54,
   "id": "33d9a984",
   "metadata": {},
   "outputs": [
    {
     "data": {
      "text/html": [
       "<div>\n",
       "<style scoped>\n",
       "    .dataframe tbody tr th:only-of-type {\n",
       "        vertical-align: middle;\n",
       "    }\n",
       "\n",
       "    .dataframe tbody tr th {\n",
       "        vertical-align: top;\n",
       "    }\n",
       "\n",
       "    .dataframe thead th {\n",
       "        text-align: right;\n",
       "    }\n",
       "</style>\n",
       "<table border=\"1\" class=\"dataframe\">\n",
       "  <thead>\n",
       "    <tr style=\"text-align: right;\">\n",
       "      <th></th>\n",
       "      <th>Movies</th>\n",
       "      <th>URL</th>\n",
       "    </tr>\n",
       "  </thead>\n",
       "  <tbody>\n",
       "    <tr>\n",
       "      <th>0</th>\n",
       "      <td>The Truth</td>\n",
       "      <td>['Funny, wry, emotionally potent, and like mos...</td>\n",
       "    </tr>\n",
       "    <tr>\n",
       "      <th>1</th>\n",
       "      <td>Titanic</td>\n",
       "      <td>['My favorite line in the movie comes from Kat...</td>\n",
       "    </tr>\n",
       "    <tr>\n",
       "      <th>2</th>\n",
       "      <td>Burden</td>\n",
       "      <td>['Like Green Book, The Blind Side, The Soloist...</td>\n",
       "    </tr>\n",
       "    <tr>\n",
       "      <th>3</th>\n",
       "      <td>A Hidden Life</td>\n",
       "      <td>['Watching A Hidden Life feels like both going...</td>\n",
       "    </tr>\n",
       "    <tr>\n",
       "      <th>4</th>\n",
       "      <td>The Assistant</td>\n",
       "      <td>['The definitive film of the Time’s Up/#MeToo ...</td>\n",
       "    </tr>\n",
       "  </tbody>\n",
       "</table>\n",
       "</div>"
      ],
      "text/plain": [
       "          Movies                                                URL\n",
       "0      The Truth  ['Funny, wry, emotionally potent, and like mos...\n",
       "1        Titanic  ['My favorite line in the movie comes from Kat...\n",
       "2         Burden  ['Like Green Book, The Blind Side, The Soloist...\n",
       "3  A Hidden Life  ['Watching A Hidden Life feels like both going...\n",
       "4  The Assistant  ['The definitive film of the Time’s Up/#MeToo ..."
      ]
     },
     "execution_count": 54,
     "metadata": {},
     "output_type": "execute_result"
    }
   ],
   "source": [
    "rem = pd.read_csv('remaining_reviews.csv')\n",
    "rem.head()"
   ]
  },
  {
   "cell_type": "code",
   "execution_count": 55,
   "id": "a543a9df",
   "metadata": {},
   "outputs": [],
   "source": [
    "for i, row in rem.iterrows():\n",
    "    movie = row['Movies']\n",
    "    comments = row['URL']\n",
    "\n",
    "    comments = eval(comments)\n",
    "    for i in range(len(comments)):\n",
    "        rev = rev.append({'movie': movie, 'reviews':comments[i]}, ignore_index=True)"
   ]
  },
  {
   "cell_type": "code",
   "execution_count": 57,
   "id": "5de48ee2",
   "metadata": {},
   "outputs": [],
   "source": [
    "# rev.to_csv('movie_reviews.csv', index=False)"
   ]
  }
 ],
 "metadata": {
  "kernelspec": {
   "display_name": "Python 3",
   "language": "python",
   "name": "python3"
  },
  "language_info": {
   "codemirror_mode": {
    "name": "ipython",
    "version": 3
   },
   "file_extension": ".py",
   "mimetype": "text/x-python",
   "name": "python",
   "nbconvert_exporter": "python",
   "pygments_lexer": "ipython3",
   "version": "3.8.8"
  }
 },
 "nbformat": 4,
 "nbformat_minor": 5
}
