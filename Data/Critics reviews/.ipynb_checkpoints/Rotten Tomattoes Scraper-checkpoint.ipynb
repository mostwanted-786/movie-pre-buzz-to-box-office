{
 "cells": [
  {
   "cell_type": "code",
   "execution_count": 3,
   "metadata": {
    "application/vnd.databricks.v1+cell": {
     "cellMetadata": {
      "byteLimit": 2048000,
      "rowLimit": 10000
     },
     "inputWidgets": {},
     "nuid": "38373b51-cc0e-4097-9c8d-e8b6a756cdec",
     "showTitle": false,
     "title": ""
    }
   },
   "outputs": [],
   "source": [
    "import pandas as pd\n",
    "from selenium import webdriver\n",
    "from selenium.webdriver.common.by import By\n",
    "from selenium.webdriver.common.keys import Keys\n",
    "from selenium.webdriver.support.ui import WebDriverWait\n",
    "from selenium.webdriver.support import expected_conditions as EC\n",
    "import time\n",
    "from tqdm import tqdm\n",
    "\n",
    "chrome_options = webdriver.ChromeOptions()\n",
    "#headless means running chrome with chrome.exe\n",
    "chrome_options.add_argument('--headless')\n",
    "\n",
    "chrome_options.add_argument('--no-sandbox')\n",
    "chrome_options.add_argument('--disable-dev-shm-usage')"
   ]
  },
  {
   "cell_type": "code",
   "execution_count": 51,
   "metadata": {
    "scrolled": true
   },
   "outputs": [
    {
     "name": "stderr",
     "output_type": "stream",
     "text": [
      "<ipython-input-51-f68ab8f240ff>:1: DeprecationWarning: executable_path has been deprecated, please pass in a Service object\n",
      "  wd = webdriver.Chrome(options=chrome_options, executable_path='C:/chromedriver.exe')\n"
     ]
    }
   ],
   "source": [
    "# wd = webdriver.Chrome(options=chrome_options, executable_path='C:/chromedriver.exe')"
   ]
  },
  {
   "cell_type": "code",
   "execution_count": 3,
   "metadata": {
    "application/vnd.databricks.v1+cell": {
     "cellMetadata": {
      "byteLimit": 2048000,
      "rowLimit": 10000
     },
     "inputWidgets": {},
     "nuid": "5ed553ed-adab-4885-82ce-81cbf3b4d397",
     "showTitle": false,
     "title": ""
    }
   },
   "outputs": [],
   "source": [
    "data = pd.read_excel('Movie List.xlsx')"
   ]
  },
  {
   "cell_type": "code",
   "execution_count": 5,
   "metadata": {
    "application/vnd.databricks.v1+cell": {
     "cellMetadata": {
      "byteLimit": 2048000,
      "rowLimit": 10000
     },
     "inputWidgets": {},
     "nuid": "f980eaef-beb1-46d5-ada5-1d7170ee0ca9",
     "showTitle": false,
     "title": ""
    }
   },
   "outputs": [
    {
     "data": {
      "text/plain": [
       "0         Love by Drowning\n",
       "1      Mickey and the Bear\n",
       "2                 Hustlers\n",
       "3              Oppenheimer\n",
       "4            Another Round\n",
       "              ...         \n",
       "549              12 Strong\n",
       "550     The Shape of Water\n",
       "551               The Post\n",
       "552     I Can Only Imagine\n",
       "553     Fifty Shades Freed\n",
       "Name: Movie, Length: 554, dtype: object"
      ]
     },
     "execution_count": 5,
     "metadata": {},
     "output_type": "execute_result"
    }
   ],
   "source": [
    "movie_names = data['Movie']\n",
    "movie_names"
   ]
  },
  {
   "cell_type": "code",
   "execution_count": 6,
   "metadata": {
    "application/vnd.databricks.v1+cell": {
     "cellMetadata": {
      "byteLimit": 2048000,
      "rowLimit": 10000
     },
     "inputWidgets": {},
     "nuid": "99365a55-aa88-46c1-a67b-1c9145348654",
     "showTitle": false,
     "title": ""
    }
   },
   "outputs": [],
   "source": [
    "def movie_page(prompt):\n",
    "    wd = webdriver.Chrome(options=chrome_options)\n",
    "\n",
    "    url = 'https://www.rottentomatoes.com/'\n",
    "\n",
    "    wd.get(url)\n",
    "    search = WebDriverWait(wd, 1).until(\n",
    "                    EC.element_to_be_clickable(\n",
    "                        wd.find_element(by=By.XPATH, value='/html/body/div[3]/rt-header/search-algolia/search-algolia-controls/input')))\n",
    "    search.send_keys(prompt)\n",
    "    search.send_keys(Keys.RETURN)\n",
    "    \n",
    "    return wd"
   ]
  },
  {
   "cell_type": "code",
   "execution_count": 7,
   "metadata": {
    "application/vnd.databricks.v1+cell": {
     "cellMetadata": {
      "byteLimit": 2048000,
      "rowLimit": 10000
     },
     "inputWidgets": {},
     "nuid": "8772a691-f0bf-449a-8d75-a6c39fee1134",
     "showTitle": false,
     "title": ""
    }
   },
   "outputs": [],
   "source": [
    "# rotten_movie_links = {}\n",
    "\n",
    "# for i in tqdm(movie_names):\n",
    "#     wd = movie_page(i)\n",
    "#     time.sleep(3)\n",
    "#     link = wd.find_element(by=By.TAG_NAME, value='search-page-media-row')\n",
    "    \n",
    "#     rotten_movie_links[i] = link.find_element(by=By.TAG_NAME, value='a').get_attribute('href')\n",
    "#     # print(i)\n",
    "\n"
   ]
  },
  {
   "cell_type": "code",
   "execution_count": 8,
   "metadata": {
    "application/vnd.databricks.v1+cell": {
     "cellMetadata": {
      "byteLimit": 2048000,
      "rowLimit": 10000
     },
     "inputWidgets": {},
     "nuid": "ff24a18a-5668-4543-a16f-24398e253375",
     "showTitle": false,
     "title": ""
    }
   },
   "outputs": [],
   "source": [
    "# rotten_df = pd.DataFrame(list(rotten_movie_links.items()), columns=[\"Movie\", \"URL\"])\n",
    "# display(rotten_df)"
   ]
  },
  {
   "cell_type": "code",
   "execution_count": 4,
   "metadata": {},
   "outputs": [],
   "source": [
    "rotten_links = pd.read_csv('Rotten links.csv')"
   ]
  },
  {
   "cell_type": "code",
   "execution_count": 5,
   "metadata": {},
   "outputs": [
    {
     "data": {
      "text/html": [
       "<div>\n",
       "<style scoped>\n",
       "    .dataframe tbody tr th:only-of-type {\n",
       "        vertical-align: middle;\n",
       "    }\n",
       "\n",
       "    .dataframe tbody tr th {\n",
       "        vertical-align: top;\n",
       "    }\n",
       "\n",
       "    .dataframe thead th {\n",
       "        text-align: right;\n",
       "    }\n",
       "</style>\n",
       "<table border=\"1\" class=\"dataframe\">\n",
       "  <thead>\n",
       "    <tr style=\"text-align: right;\">\n",
       "      <th></th>\n",
       "      <th>Movie</th>\n",
       "      <th>URL</th>\n",
       "    </tr>\n",
       "  </thead>\n",
       "  <tbody>\n",
       "    <tr>\n",
       "      <th>0</th>\n",
       "      <td>Love by Drowning</td>\n",
       "      <td>https://www.rottentomatoes.com/m/love_by_drowning</td>\n",
       "    </tr>\n",
       "    <tr>\n",
       "      <th>1</th>\n",
       "      <td>Mickey and the Bear</td>\n",
       "      <td>https://www.rottentomatoes.com/m/mickey_and_th...</td>\n",
       "    </tr>\n",
       "    <tr>\n",
       "      <th>2</th>\n",
       "      <td>Hustlers</td>\n",
       "      <td>https://www.rottentomatoes.com/m/hustlers_2019</td>\n",
       "    </tr>\n",
       "    <tr>\n",
       "      <th>3</th>\n",
       "      <td>Oppenheimer</td>\n",
       "      <td>https://www.rottentomatoes.com/m/oppenheimer_2023</td>\n",
       "    </tr>\n",
       "    <tr>\n",
       "      <th>4</th>\n",
       "      <td>Another Round</td>\n",
       "      <td>https://www.rottentomatoes.com/m/another_round</td>\n",
       "    </tr>\n",
       "    <tr>\n",
       "      <th>...</th>\n",
       "      <td>...</td>\n",
       "      <td>...</td>\n",
       "    </tr>\n",
       "    <tr>\n",
       "      <th>549</th>\n",
       "      <td>Lady Bird</td>\n",
       "      <td>https://www.rottentomatoes.com/m/lady_bird</td>\n",
       "    </tr>\n",
       "    <tr>\n",
       "      <th>550</th>\n",
       "      <td>Gotti</td>\n",
       "      <td>https://www.rottentomatoes.com/m/gotti_2018</td>\n",
       "    </tr>\n",
       "    <tr>\n",
       "      <th>551</th>\n",
       "      <td>The Rider</td>\n",
       "      <td>https://www.rottentomatoes.com/m/the_rider</td>\n",
       "    </tr>\n",
       "    <tr>\n",
       "      <th>552</th>\n",
       "      <td>Nobody’s Fool</td>\n",
       "      <td>https://www.rottentomatoes.com/m/nobodys_fool_...</td>\n",
       "    </tr>\n",
       "    <tr>\n",
       "      <th>553</th>\n",
       "      <td>The Miracle Season</td>\n",
       "      <td>https://www.rottentomatoes.com/m/the_miracle_s...</td>\n",
       "    </tr>\n",
       "  </tbody>\n",
       "</table>\n",
       "<p>554 rows × 2 columns</p>\n",
       "</div>"
      ],
      "text/plain": [
       "                   Movie                                                URL\n",
       "0       Love by Drowning  https://www.rottentomatoes.com/m/love_by_drowning\n",
       "1    Mickey and the Bear  https://www.rottentomatoes.com/m/mickey_and_th...\n",
       "2               Hustlers     https://www.rottentomatoes.com/m/hustlers_2019\n",
       "3            Oppenheimer  https://www.rottentomatoes.com/m/oppenheimer_2023\n",
       "4          Another Round     https://www.rottentomatoes.com/m/another_round\n",
       "..                   ...                                                ...\n",
       "549            Lady Bird         https://www.rottentomatoes.com/m/lady_bird\n",
       "550                Gotti        https://www.rottentomatoes.com/m/gotti_2018\n",
       "551            The Rider         https://www.rottentomatoes.com/m/the_rider\n",
       "552        Nobody’s Fool  https://www.rottentomatoes.com/m/nobodys_fool_...\n",
       "553   The Miracle Season  https://www.rottentomatoes.com/m/the_miracle_s...\n",
       "\n",
       "[554 rows x 2 columns]"
      ]
     },
     "execution_count": 5,
     "metadata": {},
     "output_type": "execute_result"
    }
   ],
   "source": [
    "rotten_links"
   ]
  },
  {
   "cell_type": "code",
   "execution_count": 19,
   "metadata": {
    "application/vnd.databricks.v1+cell": {
     "cellMetadata": {
      "byteLimit": 2048000,
      "rowLimit": 10000
     },
     "inputWidgets": {},
     "nuid": "d29ad509-7d7e-4ecb-96a2-8c70d94134e5",
     "showTitle": false,
     "title": ""
    }
   },
   "outputs": [
    {
     "name": "stderr",
     "output_type": "stream",
     "text": [
      " 29%|██████████████████████▉                                                       | 163/554 [33:05<1:19:22, 12.18s/it]\n"
     ]
    },
    {
     "ename": "WebDriverException",
     "evalue": "Message: unknown error: net::ERR_CONNECTION_CLOSED\n  (Session info: headless chrome=117.0.5938.149)\nStacktrace:\n\tGetHandleVerifier [0x00007FF62D5752A2+57122]\n\t(No symbol) [0x00007FF62D4EEA92]\n\t(No symbol) [0x00007FF62D3BE3AB]\n\t(No symbol) [0x00007FF62D3BA161]\n\t(No symbol) [0x00007FF62D3ACADF]\n\t(No symbol) [0x00007FF62D3ADE82]\n\t(No symbol) [0x00007FF62D3ACEB8]\n\t(No symbol) [0x00007FF62D3ABFBE]\n\t(No symbol) [0x00007FF62D3ABF63]\n\t(No symbol) [0x00007FF62D3AA9E5]\n\t(No symbol) [0x00007FF62D3AB153]\n\t(No symbol) [0x00007FF62D3BFF4B]\n\t(No symbol) [0x00007FF62D42EEF7]\n\t(No symbol) [0x00007FF62D416FDA]\n\t(No symbol) [0x00007FF62D42EB82]\n\t(No symbol) [0x00007FF62D416DB3]\n\t(No symbol) [0x00007FF62D3ED2B1]\n\t(No symbol) [0x00007FF62D3EE494]\n\tGetHandleVerifier [0x00007FF62D81EF82+2849794]\n\tGetHandleVerifier [0x00007FF62D871D24+3189156]\n\tGetHandleVerifier [0x00007FF62D86ACAF+3160367]\n\tGetHandleVerifier [0x00007FF62D606D06+653702]\n\t(No symbol) [0x00007FF62D4FA208]\n\t(No symbol) [0x00007FF62D4F62C4]\n\t(No symbol) [0x00007FF62D4F63F6]\n\t(No symbol) [0x00007FF62D4E67A3]\n\tBaseThreadInitThunk [0x00007FFB06AD7344+20]\n\tRtlUserThreadStart [0x00007FFB06DC26B1+33]\n",
     "output_type": "error",
     "traceback": [
      "\u001b[1;31m---------------------------------------------------------------------------\u001b[0m",
      "\u001b[1;31mWebDriverException\u001b[0m                        Traceback (most recent call last)",
      "\u001b[1;32m<ipython-input-19-a398f60bd05e>\u001b[0m in \u001b[0;36m<module>\u001b[1;34m\u001b[0m\n\u001b[0;32m      3\u001b[0m \u001b[1;32mfor\u001b[0m \u001b[0mi\u001b[0m\u001b[1;33m,\u001b[0m\u001b[0murl\u001b[0m \u001b[1;32min\u001b[0m \u001b[0mtqdm\u001b[0m\u001b[1;33m(\u001b[0m\u001b[0mzip\u001b[0m\u001b[1;33m(\u001b[0m\u001b[0mrotten_links\u001b[0m\u001b[1;33m[\u001b[0m\u001b[1;34m'Movie'\u001b[0m\u001b[1;33m]\u001b[0m\u001b[1;33m,\u001b[0m \u001b[0mrotten_links\u001b[0m\u001b[1;33m[\u001b[0m\u001b[1;34m'URL'\u001b[0m\u001b[1;33m]\u001b[0m\u001b[1;33m)\u001b[0m\u001b[1;33m,\u001b[0m \u001b[0mtotal\u001b[0m\u001b[1;33m=\u001b[0m\u001b[0mlen\u001b[0m\u001b[1;33m(\u001b[0m\u001b[0mrotten_links\u001b[0m\u001b[1;33m)\u001b[0m\u001b[1;33m)\u001b[0m\u001b[1;33m:\u001b[0m\u001b[1;33m\u001b[0m\u001b[1;33m\u001b[0m\u001b[0m\n\u001b[0;32m      4\u001b[0m     \u001b[0mwd\u001b[0m \u001b[1;33m=\u001b[0m \u001b[0mwebdriver\u001b[0m\u001b[1;33m.\u001b[0m\u001b[0mChrome\u001b[0m\u001b[1;33m(\u001b[0m\u001b[0moptions\u001b[0m\u001b[1;33m=\u001b[0m\u001b[0mchrome_options\u001b[0m\u001b[1;33m)\u001b[0m\u001b[1;33m\u001b[0m\u001b[1;33m\u001b[0m\u001b[0m\n\u001b[1;32m----> 5\u001b[1;33m     \u001b[0mwd\u001b[0m\u001b[1;33m.\u001b[0m\u001b[0mget\u001b[0m\u001b[1;33m(\u001b[0m\u001b[0murl\u001b[0m\u001b[1;33m)\u001b[0m\u001b[1;33m\u001b[0m\u001b[1;33m\u001b[0m\u001b[0m\n\u001b[0m\u001b[0;32m      6\u001b[0m \u001b[1;33m\u001b[0m\u001b[0m\n\u001b[0;32m      7\u001b[0m     \u001b[1;32mtry\u001b[0m\u001b[1;33m:\u001b[0m\u001b[1;33m\u001b[0m\u001b[1;33m\u001b[0m\u001b[0m\n",
      "\u001b[1;32m~\\anaconda3\\lib\\site-packages\\selenium\\webdriver\\remote\\webdriver.py\u001b[0m in \u001b[0;36mget\u001b[1;34m(self, url)\u001b[0m\n\u001b[0;32m    438\u001b[0m         \u001b[0mLoads\u001b[0m \u001b[0ma\u001b[0m \u001b[0mweb\u001b[0m \u001b[0mpage\u001b[0m \u001b[1;32min\u001b[0m \u001b[0mthe\u001b[0m \u001b[0mcurrent\u001b[0m \u001b[0mbrowser\u001b[0m \u001b[0msession\u001b[0m\u001b[1;33m.\u001b[0m\u001b[1;33m\u001b[0m\u001b[1;33m\u001b[0m\u001b[0m\n\u001b[0;32m    439\u001b[0m         \"\"\"\n\u001b[1;32m--> 440\u001b[1;33m         \u001b[0mself\u001b[0m\u001b[1;33m.\u001b[0m\u001b[0mexecute\u001b[0m\u001b[1;33m(\u001b[0m\u001b[0mCommand\u001b[0m\u001b[1;33m.\u001b[0m\u001b[0mGET\u001b[0m\u001b[1;33m,\u001b[0m \u001b[1;33m{\u001b[0m\u001b[1;34m'url'\u001b[0m\u001b[1;33m:\u001b[0m \u001b[0murl\u001b[0m\u001b[1;33m}\u001b[0m\u001b[1;33m)\u001b[0m\u001b[1;33m\u001b[0m\u001b[1;33m\u001b[0m\u001b[0m\n\u001b[0m\u001b[0;32m    441\u001b[0m \u001b[1;33m\u001b[0m\u001b[0m\n\u001b[0;32m    442\u001b[0m     \u001b[1;33m@\u001b[0m\u001b[0mproperty\u001b[0m\u001b[1;33m\u001b[0m\u001b[1;33m\u001b[0m\u001b[0m\n",
      "\u001b[1;32m~\\anaconda3\\lib\\site-packages\\selenium\\webdriver\\remote\\webdriver.py\u001b[0m in \u001b[0;36mexecute\u001b[1;34m(self, driver_command, params)\u001b[0m\n\u001b[0;32m    426\u001b[0m         \u001b[0mresponse\u001b[0m \u001b[1;33m=\u001b[0m \u001b[0mself\u001b[0m\u001b[1;33m.\u001b[0m\u001b[0mcommand_executor\u001b[0m\u001b[1;33m.\u001b[0m\u001b[0mexecute\u001b[0m\u001b[1;33m(\u001b[0m\u001b[0mdriver_command\u001b[0m\u001b[1;33m,\u001b[0m \u001b[0mparams\u001b[0m\u001b[1;33m)\u001b[0m\u001b[1;33m\u001b[0m\u001b[1;33m\u001b[0m\u001b[0m\n\u001b[0;32m    427\u001b[0m         \u001b[1;32mif\u001b[0m \u001b[0mresponse\u001b[0m\u001b[1;33m:\u001b[0m\u001b[1;33m\u001b[0m\u001b[1;33m\u001b[0m\u001b[0m\n\u001b[1;32m--> 428\u001b[1;33m             \u001b[0mself\u001b[0m\u001b[1;33m.\u001b[0m\u001b[0merror_handler\u001b[0m\u001b[1;33m.\u001b[0m\u001b[0mcheck_response\u001b[0m\u001b[1;33m(\u001b[0m\u001b[0mresponse\u001b[0m\u001b[1;33m)\u001b[0m\u001b[1;33m\u001b[0m\u001b[1;33m\u001b[0m\u001b[0m\n\u001b[0m\u001b[0;32m    429\u001b[0m             response['value'] = self._unwrap_value(\n\u001b[0;32m    430\u001b[0m                 response.get('value', None))\n",
      "\u001b[1;32m~\\anaconda3\\lib\\site-packages\\selenium\\webdriver\\remote\\errorhandler.py\u001b[0m in \u001b[0;36mcheck_response\u001b[1;34m(self, response)\u001b[0m\n\u001b[0;32m    241\u001b[0m                 \u001b[0malert_text\u001b[0m \u001b[1;33m=\u001b[0m \u001b[0mvalue\u001b[0m\u001b[1;33m[\u001b[0m\u001b[1;34m'alert'\u001b[0m\u001b[1;33m]\u001b[0m\u001b[1;33m.\u001b[0m\u001b[0mget\u001b[0m\u001b[1;33m(\u001b[0m\u001b[1;34m'text'\u001b[0m\u001b[1;33m)\u001b[0m\u001b[1;33m\u001b[0m\u001b[1;33m\u001b[0m\u001b[0m\n\u001b[0;32m    242\u001b[0m             \u001b[1;32mraise\u001b[0m \u001b[0mexception_class\u001b[0m\u001b[1;33m(\u001b[0m\u001b[0mmessage\u001b[0m\u001b[1;33m,\u001b[0m \u001b[0mscreen\u001b[0m\u001b[1;33m,\u001b[0m \u001b[0mstacktrace\u001b[0m\u001b[1;33m,\u001b[0m \u001b[0malert_text\u001b[0m\u001b[1;33m)\u001b[0m  \u001b[1;31m# type: ignore[call-arg]  # mypy is not smart enough here\u001b[0m\u001b[1;33m\u001b[0m\u001b[1;33m\u001b[0m\u001b[0m\n\u001b[1;32m--> 243\u001b[1;33m         \u001b[1;32mraise\u001b[0m \u001b[0mexception_class\u001b[0m\u001b[1;33m(\u001b[0m\u001b[0mmessage\u001b[0m\u001b[1;33m,\u001b[0m \u001b[0mscreen\u001b[0m\u001b[1;33m,\u001b[0m \u001b[0mstacktrace\u001b[0m\u001b[1;33m)\u001b[0m\u001b[1;33m\u001b[0m\u001b[1;33m\u001b[0m\u001b[0m\n\u001b[0m",
      "\u001b[1;31mWebDriverException\u001b[0m: Message: unknown error: net::ERR_CONNECTION_CLOSED\n  (Session info: headless chrome=117.0.5938.149)\nStacktrace:\n\tGetHandleVerifier [0x00007FF62D5752A2+57122]\n\t(No symbol) [0x00007FF62D4EEA92]\n\t(No symbol) [0x00007FF62D3BE3AB]\n\t(No symbol) [0x00007FF62D3BA161]\n\t(No symbol) [0x00007FF62D3ACADF]\n\t(No symbol) [0x00007FF62D3ADE82]\n\t(No symbol) [0x00007FF62D3ACEB8]\n\t(No symbol) [0x00007FF62D3ABFBE]\n\t(No symbol) [0x00007FF62D3ABF63]\n\t(No symbol) [0x00007FF62D3AA9E5]\n\t(No symbol) [0x00007FF62D3AB153]\n\t(No symbol) [0x00007FF62D3BFF4B]\n\t(No symbol) [0x00007FF62D42EEF7]\n\t(No symbol) [0x00007FF62D416FDA]\n\t(No symbol) [0x00007FF62D42EB82]\n\t(No symbol) [0x00007FF62D416DB3]\n\t(No symbol) [0x00007FF62D3ED2B1]\n\t(No symbol) [0x00007FF62D3EE494]\n\tGetHandleVerifier [0x00007FF62D81EF82+2849794]\n\tGetHandleVerifier [0x00007FF62D871D24+3189156]\n\tGetHandleVerifier [0x00007FF62D86ACAF+3160367]\n\tGetHandleVerifier [0x00007FF62D606D06+653702]\n\t(No symbol) [0x00007FF62D4FA208]\n\t(No symbol) [0x00007FF62D4F62C4]\n\t(No symbol) [0x00007FF62D4F63F6]\n\t(No symbol) [0x00007FF62D4E67A3]\n\tBaseThreadInitThunk [0x00007FFB06AD7344+20]\n\tRtlUserThreadStart [0x00007FFB06DC26B1+33]\n"
     ]
    }
   ],
   "source": [
    "rotten_top_critic_links = {}\n",
    "\n",
    "for i,url in tqdm(zip(rotten_links['Movie'], rotten_links['URL']), total=len(rotten_links)):\n",
    "    wd = webdriver.Chrome(options=chrome_options)\n",
    "    wd.get(url)\n",
    "    \n",
    "    try:\n",
    "        link = wd.find_element(By.XPATH, '//*[@id=\"critics-reviews\"]/div/div/div[1]/a[2]').get_attribute('href')\n",
    "        rotten_top_critic_links[i]=link\n",
    "    except:\n",
    "        rotten_top_critic_links[i] = 'ERROR'"
   ]
  },
  {
   "cell_type": "code",
   "execution_count": 21,
   "metadata": {},
   "outputs": [
    {
     "ename": "AttributeError",
     "evalue": "'dict' object has no attribute 'to_csv'",
     "output_type": "error",
     "traceback": [
      "\u001b[1;31m---------------------------------------------------------------------------\u001b[0m",
      "\u001b[1;31mAttributeError\u001b[0m                            Traceback (most recent call last)",
      "\u001b[1;32m<ipython-input-21-208df4336b56>\u001b[0m in \u001b[0;36m<module>\u001b[1;34m\u001b[0m\n\u001b[1;32m----> 1\u001b[1;33m \u001b[0mrotten_top_critic_links\u001b[0m\u001b[1;33m.\u001b[0m\u001b[0mto_csv\u001b[0m\u001b[1;33m(\u001b[0m\u001b[1;34m'RTcritic.csv'\u001b[0m\u001b[1;33m)\u001b[0m\u001b[1;33m\u001b[0m\u001b[1;33m\u001b[0m\u001b[0m\n\u001b[0m",
      "\u001b[1;31mAttributeError\u001b[0m: 'dict' object has no attribute 'to_csv'"
     ]
    }
   ],
   "source": [
    "rotten_top_critic_links"
   ]
  },
  {
   "cell_type": "code",
   "execution_count": null,
   "metadata": {},
   "outputs": [],
   "source": [
    "top_df = pd.DataFrame(list(rotten_top_critic_links.items()), columns=[\"Movie\", \"URL\"])"
   ]
  },
  {
   "cell_type": "code",
   "execution_count": null,
   "metadata": {},
   "outputs": [],
   "source": [
    "def extract_comments(wd):\n",
    "    comments=[]\n",
    "    for i in wd.find_elements(By.CLASS_NAME, value='review-text'):\n",
    "        comments.append(i.text)\n",
    "    return comments\n",
    "        \n",
    "def click_next(wd):\n",
    "    WebDriverWait(wd, 3).until(EC.element_to_be_clickable((By.XPATH, '//*[@id=\"reviews\"]/div[1]/rt-button[2]'))).click()\n",
    "\n",
    "def get_reviews(url, comments):\n",
    "    wd = webdriver.Chrome(options=chrome_options)\n",
    "    wd.get(url)\n",
    "    comments.extend(extract_comments(wd))\n",
    "\n",
    "    while True:\n",
    "        try:\n",
    "            click_next(wd)\n",
    "            time.sleep(3)\n",
    "            comments.extend(extract_comments(wd))\n",
    "        except:\n",
    "            break\n",
    "    return comments"
   ]
  },
  {
   "cell_type": "code",
   "execution_count": null,
   "metadata": {},
   "outputs": [],
   "source": [
    "all_comments={}\n",
    "\n",
    "for i,url in tqdm(zip(top_df['Movie'], top_df['URL']), total=len(top_df)):\n",
    "    if url=='ERROR':\n",
    "        all_comments[i] = ['ERROR']\n",
    "        continue\n",
    "    else:\n",
    "        comments=[]\n",
    "        all_comments[i] = get_reviews(url, comments)"
   ]
  },
  {
   "cell_type": "markdown",
   "metadata": {},
   "source": [
    "# Remaining Movies"
   ]
  },
  {
   "cell_type": "code",
   "execution_count": null,
   "metadata": {},
   "outputs": [],
   "source": []
  }
 ],
 "metadata": {
  "application/vnd.databricks.v1+notebook": {
   "dashboards": [],
   "language": "python",
   "notebookMetadata": {
    "pythonIndentUnit": 4
   },
   "notebookName": "Rotten Tomattoes Scrapper",
   "widgets": {}
  },
  "kernelspec": {
   "display_name": "Python 3",
   "language": "python",
   "name": "python3"
  },
  "language_info": {
   "codemirror_mode": {
    "name": "ipython",
    "version": 3
   },
   "file_extension": ".py",
   "mimetype": "text/x-python",
   "name": "python",
   "nbconvert_exporter": "python",
   "pygments_lexer": "ipython3",
   "version": "3.8.8"
  }
 },
 "nbformat": 4,
 "nbformat_minor": 1
}
